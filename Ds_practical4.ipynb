{
  "nbformat": 4,
  "nbformat_minor": 0,
  "metadata": {
    "colab": {
      "name": "Ds_practical4.ipynb",
      "provenance": [],
      "authorship_tag": "ABX9TyPE5NTj/4h7xIxw1leIJ5LS",
      "include_colab_link": true
    },
    "kernelspec": {
      "name": "python3",
      "display_name": "Python 3"
    }
  },
  "cells": [
    {
      "cell_type": "markdown",
      "metadata": {
        "id": "view-in-github",
        "colab_type": "text"
      },
      "source": [
        "<a href=\"https://colab.research.google.com/github/jay335/JAY/blob/master/Ds_practical4.ipynb\" target=\"_parent\"><img src=\"https://colab.research.google.com/assets/colab-badge.svg\" alt=\"Open In Colab\"/></a>"
      ]
    },
    {
      "cell_type": "code",
      "metadata": {
        "id": "-74jjwO2MtEr",
        "outputId": "47004a7e-035b-4de9-94a6-6f5833b8b42f",
        "colab": {
          "base_uri": "https://localhost:8080/"
        }
      },
      "source": [
        " \n",
        "class Stack():\n",
        "    def __init__(self):\n",
        "        self.items = [4,0,4,9,3]\n",
        "        \n",
        "    def enque(self,item):\n",
        "        self.items.append(item)\n",
        "        print(item)\n",
        " \n",
        "        \n",
        "    def deque(self):\n",
        "        b= self.items\n",
        "        b.pop()\n",
        "        print(b)\n",
        " \n",
        "    def traverse(self):\n",
        "        a = []\n",
        "        l = self.items\n",
        "        for i in l:\n",
        "            a.append(i)\n",
        "        print(a)\n",
        "s=Stack()\n",
        " \n",
        "print(\"Adding the element in the queue : \")\n",
        "s.enque(5)\n",
        "print(\"initial queue : \")\n",
        "s.traverse()\n",
        " \n",
        "print(\"After removing an element from the queue : \")\n",
        "s.deque()"
      ],
      "execution_count": 1,
      "outputs": [
        {
          "output_type": "stream",
          "text": [
            "Adding the element in the queue : \n",
            "5\n",
            "initial queue : \n",
            "[4, 0, 4, 9, 3, 5]\n",
            "After removing an element from the queue : \n",
            "[4, 0, 4, 9, 3]\n"
          ],
          "name": "stdout"
        }
      ]
    }
  ]
}