{
  "nbformat": 4,
  "nbformat_minor": 0,
  "metadata": {
    "colab": {
      "name": "DoubleEnded.ipynb",
      "provenance": [],
      "authorship_tag": "ABX9TyOmxI7UY+eXrZeXb8WxSXWc",
      "include_colab_link": true
    },
    "kernelspec": {
      "name": "python3",
      "display_name": "Python 3"
    }
  },
  "cells": [
    {
      "cell_type": "markdown",
      "metadata": {
        "id": "view-in-github",
        "colab_type": "text"
      },
      "source": [
        "<a href=\"https://colab.research.google.com/github/jay335/JAY/blob/master/DoubleEnded.ipynb\" target=\"_parent\"><img src=\"https://colab.research.google.com/assets/colab-badge.svg\" alt=\"Open In Colab\"/></a>"
      ]
    },
    {
      "cell_type": "code",
      "metadata": {
        "id": "AfUHchIt6_2i",
        "colab_type": "code",
        "colab": {
          "base_uri": "https://localhost:8080/",
          "height": 225
        },
        "outputId": "7922b9e1-8828-4e7d-8c6d-08a951e84b2e"
      },
      "source": [
        " \n",
        "import collections\n",
        "#create a deque\n",
        "DoubleEnded = collections.deque([\"Raj\",\"Ajay\",\"Jay\"])\n",
        "print (DoubleEnded)\n",
        " \n",
        "#Append to the right\n",
        "print(\"Adding to the right:\")\n",
        "DoubleEnded.append(\"Inayat\")\n",
        "print(DoubleEnded)\n",
        " \n",
        "#Append on left side\n",
        "print(\"Adding to left:\")\n",
        "DoubleEnded.appendleft(\"Faraz\")\n",
        "print(DoubleEnded)\n",
        " \n",
        "#Remove from right\n",
        "print(\"Remove from right:\")\n",
        "DoubleEnded.pop()\n",
        "print(DoubleEnded)\n",
        " \n",
        "#Remove from left\n",
        "print(\"Remove from left:\")\n",
        "DoubleEnded.popleft()\n",
        "print(DoubleEnded)\n",
        " \n",
        "#Reverse\n",
        "print(\"Reversing deque:\")\n",
        "DoubleEnded.reverse()\n",
        "print(DoubleEnded)"
      ],
      "execution_count": null,
      "outputs": [
        {
          "output_type": "stream",
          "text": [
            "deque(['Raj', 'Ajay', 'Jay'])\n",
            "Adding to the right:\n",
            "deque(['Raj', 'Ajay', 'Jay', 'Inayat'])\n",
            "Adding to left:\n",
            "deque(['Faraz', 'Raj', 'Ajay', 'Jay', 'Inayat'])\n",
            "Remove from right:\n",
            "deque(['Faraz', 'Raj', 'Ajay', 'Jay'])\n",
            "Remove from left:\n",
            "deque(['Raj', 'Ajay', 'Jay'])\n",
            "Reversing deque:\n",
            "deque(['Jay', 'Ajay', 'Raj'])\n"
          ],
          "name": "stdout"
        }
      ]
    },
    {
      "cell_type": "code",
      "metadata": {
        "id": "TpiNJBaw-48k",
        "colab_type": "code",
        "colab": {}
      },
      "source": [
        ""
      ],
      "execution_count": null,
      "outputs": []
    }
  ]
}