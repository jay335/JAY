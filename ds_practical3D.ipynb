{
  "nbformat": 4,
  "nbformat_minor": 0,
  "metadata": {
    "colab": {
      "name": "ds_practical3D.ipynb",
      "provenance": [],
      "authorship_tag": "ABX9TyP0xAoaSU0CQKN7gzclsBBD",
      "include_colab_link": true
    },
    "kernelspec": {
      "name": "python3",
      "display_name": "Python 3"
    }
  },
  "cells": [
    {
      "cell_type": "markdown",
      "metadata": {
        "id": "view-in-github",
        "colab_type": "text"
      },
      "source": [
        "<a href=\"https://colab.research.google.com/github/jay335/JAY/blob/master/ds_practical3D.ipynb\" target=\"_parent\"><img src=\"https://colab.research.google.com/assets/colab-badge.svg\" alt=\"Open In Colab\"/></a>"
      ]
    },
    {
      "cell_type": "code",
      "metadata": {
        "id": "3kAMgVrRWM8_",
        "outputId": "8109278e-0e38-466c-d3b0-992a937d2fcb",
        "colab": {
          "base_uri": "https://localhost:8080/"
        }
      },
      "source": [
        " \n",
        "def recur_factorial(n):  \n",
        "   if n == 1:  \n",
        "       return n  \n",
        "   else:  \n",
        "       return n*recur_factorial(n-1)  \n",
        " \n",
        "num = int(input(\"Enter a number: \"))  \n",
        " \n",
        "if num < 0:  \n",
        "   print(\"Sorry, factorial does not exist for negative numbers\")  \n",
        "elif num == 0:  \n",
        "   print(\"The factorial of 0 is 1\")  \n",
        "else:  \n",
        "   print(\"The factorial of\",num,\"is\",recur_factorial(num))\n",
        " \n",
        "def factorial(n):\n",
        " \n",
        "    fact = 1\n",
        "    for i in range(1, n + 1):\n",
        "        fact = fact * i\n",
        " \n",
        "    return fact\n",
        " \n",
        " \n",
        "if __name__ == '_main_':\n",
        "    print(\"The Factorial of\", n, \"is\", factorial(n))\n",
        " \n",
        "#using iteration\n",
        "def fact(number):\n",
        "   \n",
        "    fact = 1\n",
        "  \n",
        "    for number in range(5, 1,-1):\n",
        "    \n",
        "        fact = fact * number\n",
        "    return fact\n",
        " \n",
        "number = int(input(\"Enter a number for iteration : \"))\n",
        " \n",
        "factorial = fact(number)\n",
        "print(\"Factorial is \"+str(factorial))"
      ],
      "execution_count": 1,
      "outputs": [
        {
          "output_type": "stream",
          "text": [
            "Enter a number: 2\n",
            "The factorial of 2 is 2\n",
            "Enter a number for iteration : 5\n",
            "Factorial is 120\n"
          ],
          "name": "stdout"
        }
      ]
    }
  ]
}