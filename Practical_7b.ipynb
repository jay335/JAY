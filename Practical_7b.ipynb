{
  "nbformat": 4,
  "nbformat_minor": 0,
  "metadata": {
    "colab": {
      "name": "Practical_7b.ipynb",
      "provenance": [],
      "authorship_tag": "ABX9TyMiKxKC0Ph/l3M051bQq4Tx",
      "include_colab_link": true
    },
    "kernelspec": {
      "name": "python3",
      "display_name": "Python 3"
    }
  },
  "cells": [
    {
      "cell_type": "markdown",
      "metadata": {
        "id": "view-in-github",
        "colab_type": "text"
      },
      "source": [
        "<a href=\"https://colab.research.google.com/github/jay335/JAY/blob/master/Practical_7b.ipynb\" target=\"_parent\"><img src=\"https://colab.research.google.com/assets/colab-badge.svg\" alt=\"Open In Colab\"/></a>"
      ]
    },
    {
      "cell_type": "code",
      "metadata": {
        "id": "7yO6pQ687XVj",
        "outputId": "6c5f9d83-4309-4876-e132-5823a3a37cba",
        "colab": {
          "base_uri": "https://localhost:8080/"
        }
      },
      "source": [
        " \n",
        "class Hash:\n",
        "    def __init__(self, keys, lowerrange, higherrange):\n",
        "        self.value = self.hashfunction(keys, lowerrange, higherrange)\n",
        " \n",
        "    def get_key_value(self):\n",
        "        return self.value\n",
        " \n",
        "    def hashfunction(self, keys, lowerrange, higherrange):\n",
        "        if lowerrange == 0 and higherrange > 0:\n",
        "            return keys % (higherrange)\n",
        " \n",
        "if __name__ == '__main__':\n",
        "    linear_probing = True\n",
        "    list_of_keys = [30,32,46,49,24,80,72,66,56]\n",
        "    list_of_list_index = [None]*len(list_of_keys)\n",
        "    print(\"Before : \" + str(list_of_list_index))\n",
        "    for value in list_of_keys:\n",
        "        # print(Hash(value,0,len(list_of_keys)).get_key_value())\n",
        "        list_index = Hash(value, 0, len(list_of_keys)).get_key_value()\n",
        "        print(\"hash value for \" + str(value) + \" is :\" + str(list_index))\n",
        "        if list_of_list_index[list_index]:\n",
        "            print(\"Collission detected for \" + str(value))\n",
        "            if linear_probing:\n",
        "                old_list_index = list_index\n",
        "                if list_index == len(list_of_list_index)-1:\n",
        "                    list_index = 0\n",
        "                else:\n",
        "                    list_index += 1\n",
        "                    list_full = False\n",
        " \n",
        "                while list_of_list_index[list_index]:\n",
        " \n",
        "                    if list_index == old_list_index:\n",
        "                        list_full = True\n",
        "                        break\n",
        "                    if list_index+1 == len(list_of_list_index):\n",
        "                        list_index = 0\n",
        "                    else:\n",
        "                        list_index += 1\n",
        "                if list_full:\n",
        "                    print(\"List was full . Could not save\")\n",
        "                else:\n",
        "                    list_of_list_index[list_index] = value\n",
        " \n",
        "        else:\n",
        "            list_of_list_index[list_index] = value\n",
        " \n",
        "    print(\"After: \" + str(list_of_list_index))"
      ],
      "execution_count": 1,
      "outputs": [
        {
          "output_type": "stream",
          "text": [
            "Before : [None, None, None, None, None, None, None, None, None]\n",
            "hash value for 30 is :3\n",
            "hash value for 32 is :5\n",
            "hash value for 46 is :1\n",
            "hash value for 49 is :4\n",
            "hash value for 24 is :6\n",
            "hash value for 80 is :8\n",
            "hash value for 72 is :0\n",
            "hash value for 66 is :3\n",
            "Collission detected for 66\n",
            "hash value for 56 is :2\n",
            "After: [72, 46, 56, 30, 49, 32, 24, 66, 80]\n"
          ],
          "name": "stdout"
        }
      ]
    }
  ]
}