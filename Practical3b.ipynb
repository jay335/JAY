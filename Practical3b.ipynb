{
  "nbformat": 4,
  "nbformat_minor": 0,
  "metadata": {
    "colab": {
      "name": "Practical3b.ipynb",
      "provenance": [],
      "authorship_tag": "ABX9TyNq2QCJ7Pn1QYSo1B6Vbd1f",
      "include_colab_link": true
    },
    "kernelspec": {
      "name": "python3",
      "display_name": "Python 3"
    }
  },
  "cells": [
    {
      "cell_type": "markdown",
      "metadata": {
        "id": "view-in-github",
        "colab_type": "text"
      },
      "source": [
        "<a href=\"https://colab.research.google.com/github/jay335/JAY/blob/master/Practical3b.ipynb\" target=\"_parent\"><img src=\"https://colab.research.google.com/assets/colab-badge.svg\" alt=\"Open In Colab\"/></a>"
      ]
    },
    {
      "cell_type": "code",
      "metadata": {
        "id": "MnpcsUUI5F3U",
        "outputId": "4b308477-be00-4b28-fb6f-fd7aab5dfe26",
        "colab": {
          "base_uri": "https://localhost:8080/"
        }
      },
      "source": [
        " \n",
        "def hanoi(disks, source, auxiliary, target):\n",
        "    if disks == 1:\n",
        "        print('Move disk 1 from peg {} to peg {}.'.format(source, target))\n",
        "        return\n",
        " \n",
        "    hanoi(disks - 1, source, target, auxiliary)\n",
        "    print('Move disk {} from peg {} to peg {}.'.format(disks, source, target))\n",
        "    hanoi(disks - 1, auxiliary, source, target)\n",
        " \n",
        " \n",
        "disks = int(input('Enter number of disks: '))\n",
        "hanoi(disks,'A','B','C')"
      ],
      "execution_count": 1,
      "outputs": [
        {
          "output_type": "stream",
          "text": [
            "Enter number of disks: 2\n",
            "Move disk 1 from peg A to peg B.\n",
            "Move disk 2 from peg A to peg C.\n",
            "Move disk 1 from peg B to peg C.\n"
          ],
          "name": "stdout"
        }
      ]
    }
  ]
}