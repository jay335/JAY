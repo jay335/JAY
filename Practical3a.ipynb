{
  "nbformat": 4,
  "nbformat_minor": 0,
  "metadata": {
    "colab": {
      "name": "Practical3a.ipynb",
      "provenance": [],
      "authorship_tag": "ABX9TyOeWkwzgzr+EN6ZWUngRj1k",
      "include_colab_link": true
    },
    "kernelspec": {
      "name": "python3",
      "display_name": "Python 3"
    }
  },
  "cells": [
    {
      "cell_type": "markdown",
      "metadata": {
        "id": "view-in-github",
        "colab_type": "text"
      },
      "source": [
        "<a href=\"https://colab.research.google.com/github/jay335/JAY/blob/master/Practical3a.ipynb\" target=\"_parent\"><img src=\"https://colab.research.google.com/assets/colab-badge.svg\" alt=\"Open In Colab\"/></a>"
      ]
    },
    {
      "cell_type": "code",
      "metadata": {
        "id": "_b8BIGIyTA9U",
        "colab_type": "code",
        "colab": {
          "base_uri": "https://localhost:8080/",
          "height": 119
        },
        "outputId": "581769dc-f6a8-4212-bbdd-9ab612a3c804"
      },
      "source": [
        " \n",
        "class Stack:\n",
        "     def __init__(self):\n",
        "         self.items = []\n",
        " \n",
        "     def isEmpty(self):\n",
        "         return self.items == []\n",
        " \n",
        "     def push(self, item):\n",
        "         self.items.append(item)\n",
        " \n",
        "     def pop(self):\n",
        "         return self.items.pop()\n",
        "        \n",
        "     def size(self):\n",
        "         return len(self.items)\n",
        "        \n",
        "s=Stack()\n",
        "print(s.isEmpty())\n",
        "s.push(4)\n",
        "s.push(8)\n",
        "s.push(10)\n",
        "s.push('hey')\n",
        "s.push('hola')\n",
        "print(s.size())\n",
        "print(s.isEmpty())\n",
        "s.push(8.4)\n",
        "print(s.pop())\n",
        "print(s.pop())\n",
        "print(s.size())"
      ],
      "execution_count": 1,
      "outputs": [
        {
          "output_type": "stream",
          "text": [
            "True\n",
            "5\n",
            "False\n",
            "8.4\n",
            "hola\n",
            "4\n"
          ],
          "name": "stdout"
        }
      ]
    }
  ]
}