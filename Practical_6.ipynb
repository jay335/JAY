{
  "nbformat": 4,
  "nbformat_minor": 0,
  "metadata": {
    "colab": {
      "name": "Practical 6.ipynb",
      "provenance": [],
      "authorship_tag": "ABX9TyMiMU6OiHbFcYHWPOQzms2F",
      "include_colab_link": true
    },
    "kernelspec": {
      "name": "python3",
      "display_name": "Python 3"
    }
  },
  "cells": [
    {
      "cell_type": "markdown",
      "metadata": {
        "id": "view-in-github",
        "colab_type": "text"
      },
      "source": [
        "<a href=\"https://colab.research.google.com/github/jay335/JAY/blob/master/Practical_6.ipynb\" target=\"_parent\"><img src=\"https://colab.research.google.com/assets/colab-badge.svg\" alt=\"Open In Colab\"/></a>"
      ]
    },
    {
      "cell_type": "code",
      "metadata": {
        "id": "8hGQsbWDRz3d",
        "colab_type": "code",
        "colab": {
          "base_uri": "https://localhost:8080/",
          "height": 122
        },
        "outputId": "360a7d1e-2439-41fe-daa1-8b00f28bf1a6"
      },
      "source": [
        " \n",
        "list1 = [9,7,65,32,6,22,8,14,21,54,26,45]\n",
        "print(\"List = \",list1)\n",
        "n = len(list1)\n",
        "def bubbleSort():\n",
        "    print(\"Bubble Sorting\")\n",
        "    for i in range(n-1): \n",
        "        for j in range(0, n-i-1): \n",
        "            if list1[j] > list1[j+1] : \n",
        "                list1[j], list1[j+1] = list1[j+1], list1[j] \n",
        "    print(list1)\n",
        " \n",
        "def SelectionSort():\n",
        "    print(\"Selection Sorting\")\n",
        "    for i in range(n):\n",
        "        for j in range(i):\n",
        "            if list1[i]<list1[j]:\n",
        "                list1[i],list1[j] = list1[j],list1[i]\n",
        "    print(list1)\n",
        "    \n",
        "def InsertionSort():\n",
        "    print(\"Insertion Sorting\")\n",
        "    for i in range(1, n): \n",
        "        c = list1[i] \n",
        "        j = i-1\n",
        "        while j >=0 and c < list1[j] : \n",
        "                list1[j+1] = list1[j] \n",
        "                j -= 1\n",
        "        list1[j+1] = c\n",
        "    print(list1)\n",
        " \n",
        "inp = input(\"Enter (B) for Bubble Sort, (S) for Selection Sort and (I) for Insertion Sort \\n Enter here:\")\n",
        "if inp==\"B\" or inp==\"b\":\n",
        "    bubbleSort()\n",
        "elif inp==\"S\" or inp==\"s\":\n",
        "    SelectionSort()\n",
        "elif inp==\"I\" or inp==\"i\":\n",
        "    InsertionSort()\n",
        "else:\n",
        "    print(\"Invalid input\")"
      ],
      "execution_count": 1,
      "outputs": [
        {
          "output_type": "stream",
          "text": [
            "List =  [9, 7, 65, 32, 6, 22, 8, 14, 21, 54, 26, 45]\n",
            "Enter (B) for Bubble Sort, (S) for Selection Sort and (I) for Insertion Sort \n",
            " Enter here:B\n",
            "Bubble Sorting\n",
            "[6, 7, 8, 9, 14, 21, 22, 26, 32, 45, 54, 65]\n"
          ],
          "name": "stdout"
        }
      ]
    }
  ]
}