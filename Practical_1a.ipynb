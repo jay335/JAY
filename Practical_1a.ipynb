{
  "nbformat": 4,
  "nbformat_minor": 0,
  "metadata": {
    "colab": {
      "name": "Practical 1a.ipynb",
      "provenance": [],
      "authorship_tag": "ABX9TyPOvAc58xieMmBddi2fg7Oq",
      "include_colab_link": true
    },
    "kernelspec": {
      "name": "python3",
      "display_name": "Python 3"
    }
  },
  "cells": [
    {
      "cell_type": "markdown",
      "metadata": {
        "id": "view-in-github",
        "colab_type": "text"
      },
      "source": [
        "<a href=\"https://colab.research.google.com/github/jay335/JAY/blob/master/Practical_1a.ipynb\" target=\"_parent\"><img src=\"https://colab.research.google.com/assets/colab-badge.svg\" alt=\"Open In Colab\"/></a>"
      ]
    },
    {
      "cell_type": "code",
      "metadata": {
        "id": "X9mcQmU_zAcO",
        "colab_type": "code",
        "colab": {
          "base_uri": "https://localhost:8080/",
          "height": 105
        },
        "outputId": "23f23c36-0292-40a4-8133-9abec29909ce"
      },
      "source": [
        " \n",
        "'''\n",
        "Write a program to store the elements in 1-D array and provide an option to perform \n",
        "the operatons like searching, sorting, merge_eling, reversing the elements.\n",
        "'''\n",
        "class pract1D:\n",
        "    def __init__(self, a):\n",
        "        self.array = a\n",
        " \n",
        "    def search(self, e):\n",
        "        if e in self.array:\n",
        "            return True\n",
        "        return False\n",
        " \n",
        "    def sort(self):\n",
        "        for i in range(len(self.array)):\n",
        "            lowest_index = i\n",
        "            for j in range(i+1, len(self.array)):\n",
        "                if self.array[j] < self.array[lowest_index]:\n",
        "                    lowest_index = j\n",
        "            self.array[i], self.array[lowest_index] = self.array[lowest_index], self.array[i]\n",
        "        return self.array\n",
        " \n",
        "    def merge_el(self,l):\n",
        "        self.array = self.array + l\n",
        "        return self.array\n",
        " \n",
        "    def reverse(self):\n",
        "        return self.array[::-1]\n",
        " \n",
        "a = [5,6,7,89,2,5,6,1]\n",
        "o = pract1D(a)\n",
        "print(o.sort())\n",
        "print(o.search(89))\n",
        "print(o.merge_el([8,5,7,9,3]))\n",
        "print(o.reverse())"
      ],
      "execution_count": 1,
      "outputs": [
        {
          "output_type": "stream",
          "text": [
            "[1, 2, 5, 5, 6, 6, 7, 89]\n",
            "True\n",
            "[1, 2, 5, 5, 6, 6, 7, 89, 8, 5, 7, 9, 3]\n",
            "[3, 9, 7, 5, 8, 89, 7, 6, 6, 5, 5, 2, 1]\n"
          ],
          "name": "stdout"
        }
      ]
    }
  ]
}