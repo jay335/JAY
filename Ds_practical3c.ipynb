{
  "nbformat": 4,
  "nbformat_minor": 0,
  "metadata": {
    "colab": {
      "name": "Ds_practical3c.ipynb",
      "provenance": [],
      "authorship_tag": "ABX9TyOpo65tJ+UfwB9CocE12wWv",
      "include_colab_link": true
    },
    "kernelspec": {
      "name": "python3",
      "display_name": "Python 3"
    }
  },
  "cells": [
    {
      "cell_type": "markdown",
      "metadata": {
        "id": "view-in-github",
        "colab_type": "text"
      },
      "source": [
        "<a href=\"https://colab.research.google.com/github/jay335/JAY/blob/master/Ds_practical3c.ipynb\" target=\"_parent\"><img src=\"https://colab.research.google.com/assets/colab-badge.svg\" alt=\"Open In Colab\"/></a>"
      ]
    },
    {
      "cell_type": "code",
      "metadata": {
        "id": "AScK3mtN52Bp",
        "outputId": "4a3073b6-28eb-40ad-e5aa-79a8bd0f2148",
        "colab": {
          "base_uri": "https://localhost:8080/"
        }
      },
      "source": [
        " \n",
        "def add(A, B, m, n): \n",
        "        size = max(m, n); \n",
        "        sum = [0 for i in range(size)]      \n",
        "        for i in range(0, m, 1): \n",
        "            sum[i] = A[i]   \n",
        "        for i in range(n): \n",
        "            sum[i] += B[i] \n",
        "        return sum\n",
        " \n",
        "def printPoly(poly, n): \n",
        "        for i in range(n): \n",
        "            print(poly[i], end = \"\") \n",
        "            if (i != 0): \n",
        "                print(\"x^\", i, end = \"\") \n",
        "            if (i != n - 1): \n",
        "                print(\" + \", end = \"\") \n",
        " \n",
        "if __name__ == '__main__':      \n",
        "        A = [6,1,11,7]      \n",
        "        B = [2,3,5] \n",
        "        m = len(A) \n",
        "        n = len(B) \n",
        "        print(\"First polynomial is\") \n",
        "        printPoly(A, m) \n",
        "        print(\"\\n\", end = \"\") \n",
        "        print(\"Second polynomial is\") \n",
        "        printPoly(B, n) \n",
        "        print(\"\\n\", end = \"\") \n",
        "        sum = add(A, B, m, n) \n",
        "        size = max(m, n) \n",
        "    \n",
        "        print(\"sum polynomial is\") \n",
        "        printPoly(sum, size)"
      ],
      "execution_count": 1,
      "outputs": [
        {
          "output_type": "stream",
          "text": [
            "First polynomial is\n",
            "6 + 1x^ 1 + 11x^ 2 + 7x^ 3\n",
            "Second polynomial is\n",
            "2 + 3x^ 1 + 5x^ 2\n",
            "sum polynomial is\n",
            "8 + 4x^ 1 + 16x^ 2 + 7x^ 3"
          ],
          "name": "stdout"
        }
      ]
    }
  ]
}