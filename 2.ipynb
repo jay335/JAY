{
  "nbformat": 4,
  "nbformat_minor": 0,
  "metadata": {
    "colab": {
      "name": "2.ipynb",
      "provenance": [],
      "authorship_tag": "ABX9TyN3plPGc4JXfseVlnCbYD84",
      "include_colab_link": true
    },
    "kernelspec": {
      "name": "python3",
      "display_name": "Python 3"
    }
  },
  "cells": [
    {
      "cell_type": "markdown",
      "metadata": {
        "id": "view-in-github",
        "colab_type": "text"
      },
      "source": [
        "<a href=\"https://colab.research.google.com/github/jay335/JAY/blob/master/2.ipynb\" target=\"_parent\"><img src=\"https://colab.research.google.com/assets/colab-badge.svg\" alt=\"Open In Colab\"/></a>"
      ]
    },
    {
      "cell_type": "code",
      "metadata": {
        "id": "U38xS1dDv6mx",
        "colab_type": "code",
        "colab": {
          "base_uri": "https://localhost:8080/",
          "height": 164
        },
        "outputId": "4b278f0c-65e8-4ace-db8f-80ebcc6a6dff"
      },
      "source": [
        " \n",
        "P.2. Implement linked list Includes options for \n",
        "Insertion deletion and search of a number, reverse\n",
        "The list and concatenate two minded lists.\n",
        " \n",
        "def __init__(self, data): \n",
        " \n",
        "        self.data = data \n",
        " \n",
        "        self.next = None\n",
        " \n",
        "class LinkedList: \n",
        " \n",
        "    # Function to initialize head \n",
        " \n",
        "    def __init__(self): \n",
        " \n",
        "        self.head = None\n",
        " \n",
        " \n",
        "    # Function to reverse the linked list \n",
        " \n",
        "    def reverse(self): \n",
        " \n",
        "        prev = None\n",
        " \n",
        "        current = self.head \n",
        " \n",
        "        while(current is not None): \n",
        " \n",
        "            next = current.next\n",
        " \n",
        "            current.next = prev \n",
        " \n",
        "            prev = current \n",
        " \n",
        "            current = next\n",
        " \n",
        "        self.head = prev \n",
        " \n",
        "          \n",
        " \n",
        "    # Function to insert a new node at the beginning \n",
        " \n",
        "    def push(self, new_data): \n",
        " \n",
        "        new_node = Node(new_data) \n",
        " \n",
        "        new_node.next = self.head \n",
        " \n",
        "        self.head = new_node \n",
        " \n",
        "  \n",
        " \n",
        "    # Utility function to print the linked LinkedList \n",
        " \n",
        "    def printList(self): \n",
        " \n",
        "        temp = self.head \n",
        " \n",
        "        while(temp): \n",
        " \n",
        "            print temp.data, \n",
        " \n",
        "            temp = temp.next\n",
        " \n",
        "  \n",
        " \n",
        "  \n",
        "# Driver program to test above functions \n",
        " \n",
        "llist = LinkedList() \n",
        " \n",
        "llist.push(20) \n",
        " \n",
        "llist.push(4) \n",
        " \n",
        "llist.push(15) \n",
        " \n",
        "llist.push(85) \n",
        " \n",
        "  \n",
        " \n",
        "print \"Given Linked List\"\n",
        "llist.printList() \n",
        "llist.reverse() \n",
        " \n",
        "print \"\\nReversed Linked List\"\n",
        "llist.printList()"
      ],
      "execution_count": 1,
      "outputs": [
        {
          "output_type": "error",
          "ename": "SyntaxError",
          "evalue": "ignored",
          "traceback": [
            "\u001b[0;36m  File \u001b[0;32m\"<ipython-input-1-23a8b3eecc68>\"\u001b[0;36m, line \u001b[0;32m2\u001b[0m\n\u001b[0;31m    P.2. Implement linked list Includes options for\u001b[0m\n\u001b[0m      ^\u001b[0m\n\u001b[0;31mSyntaxError\u001b[0m\u001b[0;31m:\u001b[0m invalid syntax\n"
          ]
        }
      ]
    }
  ]
}