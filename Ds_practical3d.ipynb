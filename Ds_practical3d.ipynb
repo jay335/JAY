{
  "nbformat": 4,
  "nbformat_minor": 0,
  "metadata": {
    "colab": {
      "name": "Ds_practical3d.ipynb",
      "provenance": [],
      "authorship_tag": "ABX9TyMjT8Z01sRNA3TQSTLZ0fEJ",
      "include_colab_link": true
    },
    "kernelspec": {
      "name": "python3",
      "display_name": "Python 3"
    }
  },
  "cells": [
    {
      "cell_type": "markdown",
      "metadata": {
        "id": "view-in-github",
        "colab_type": "text"
      },
      "source": [
        "<a href=\"https://colab.research.google.com/github/jay335/JAY/blob/master/Ds_practical3d.ipynb\" target=\"_parent\"><img src=\"https://colab.research.google.com/assets/colab-badge.svg\" alt=\"Open In Colab\"/></a>"
      ]
    },
    {
      "cell_type": "code",
      "metadata": {
        "id": "njNpEofBHeIU",
        "outputId": "5dc9bf8d-3135-44be-eaf3-6296bcaa70f5",
        "colab": {
          "base_uri": "https://localhost:8080/"
        }
      },
      "source": [
        " \n",
        "import random\n",
        "random.seed(36)\n",
        "class Node:\n",
        "    def __init__(self, val):\n",
        "        self.val = val\n",
        "        self.leftChild = None\n",
        "        self.rightChild = None\n",
        " \n",
        "def insert(root, key):\n",
        "    if root is None:\n",
        "        return Node(key)\n",
        "    else:\n",
        "        if root.val == key:\n",
        "            return root\n",
        "        elif root.val < key:\n",
        "            root.rightChild = insert(root.rightChild, key)\n",
        "        else:\n",
        "            root.leftChild = insert(root.leftChild, key)\n",
        "    return root\n",
        " \n",
        "def PrintInorder(root):\n",
        "    if root:\n",
        "        PrintInorder(root.leftChild)\n",
        "        print(root.val, end=\" \")\n",
        "        PrintInorder(root.rightChild)\n",
        " \n",
        "def printPreorder(root):\n",
        "    if root:\n",
        "        print(root.val, end=\" \")\n",
        "        printPreorder(root.leftChild)\n",
        "        printPreorder(root.rightChild)\n",
        " \n",
        "def printPostorder(root):\n",
        "    if root:\n",
        "        printPostorder(root.leftChild)\n",
        "        printPostorder(root.rightChild)\n",
        "        print(root.val, end=\" \")\n",
        " \n",
        "tree = Node(30)\n",
        "for i in range(20):\n",
        "    insert(tree, random.randint(2, 100))\n",
        " \n",
        "if __name__ == \"__main__\":\n",
        "    print(\"inorder\")\n",
        "    PrintInorder(tree)\n",
        "    print(\"\\n\")\n",
        "    print(\"preorder\")\n",
        "    printPreorder(tree)\n",
        "    print(\"\\n\")\n",
        "    print(\"postorder\")\n",
        "    printPostorder(tree)"
      ],
      "execution_count": 1,
      "outputs": [
        {
          "output_type": "stream",
          "text": [
            "inorder\n",
            "2 4 9 11 12 24 30 33 36 38 44 48 57 66 71 73 75 82 85 95 \n",
            "\n",
            "preorder\n",
            "30 9 4 2 12 11 24 44 38 33 36 66 57 48 82 73 71 75 95 85 \n",
            "\n",
            "postorder\n",
            "2 4 11 24 12 9 36 33 38 48 57 71 75 73 85 95 82 66 44 30 "
          ],
          "name": "stdout"
        }
      ]
    }
  ]
}