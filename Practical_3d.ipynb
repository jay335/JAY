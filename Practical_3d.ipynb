{
  "nbformat": 4,
  "nbformat_minor": 0,
  "metadata": {
    "colab": {
      "name": "Practical 3d.ipynb",
      "provenance": [],
      "authorship_tag": "ABX9TyMz8j0YvJNKMNEj9hHHUOmf",
      "include_colab_link": true
    },
    "kernelspec": {
      "name": "python3",
      "display_name": "Python 3"
    }
  },
  "cells": [
    {
      "cell_type": "markdown",
      "metadata": {
        "id": "view-in-github",
        "colab_type": "text"
      },
      "source": [
        "<a href=\"https://colab.research.google.com/github/jay335/JAY/blob/master/Practical_3d.ipynb\" target=\"_parent\"><img src=\"https://colab.research.google.com/assets/colab-badge.svg\" alt=\"Open In Colab\"/></a>"
      ]
    },
    {
      "cell_type": "code",
      "metadata": {
        "id": "eKfesZHjWV_7",
        "colab_type": "code",
        "colab": {
          "base_uri": "https://localhost:8080/",
          "height": 318
        },
        "outputId": "a9ce985a-2b2f-4b5e-835a-dfe8233c6403"
      },
      "source": [
        " \n",
        "for i in range(1,n+1):\n",
        "    factorial = factorial * i\n",
        " \n",
        "print(f'Factorial is : {factorial}')\n",
        " \n",
        "fact = []\n",
        "for i in range(1,n+1):\n",
        "    if (n/i).is_integer():\n",
        "        fact.append(i)\n",
        "        \n",
        "print(f'Factors of the given numbers is : {fact}')\n",
        " \n",
        "factorial = 1\n",
        "index = 1\n",
        "n = int(input(\"Enter number : \"))\n",
        "def calculate_factorial(n,factorial,index):\n",
        "    if index == n:\n",
        "        print(f'Factorial is : {factorial}')\n",
        "        return True\n",
        "    else:\n",
        "        index = index + 1\n",
        "        calculate_factorial(n,factorial * index,index)\n",
        "calculate_factorial(n,factorial,index)\n",
        " \n",
        "fact = []\n",
        "def calculate_factors(n,factors,index):\n",
        "    if index == n+1:\n",
        "        print(f'Factors of the given numbers is : {factors}')\n",
        "        return True\n",
        "    elif (n/index).is_integer():\n",
        "        factors.append(index)\n",
        "        index += 1\n",
        "        calculate_factors(n,factors,index)\n",
        "    else:\n",
        "        index += 1\n",
        "        calculate_factors(n,factors,index)\n",
        "        \n",
        "index = 1\n",
        "factors = []\n",
        "calculate_factors(n,factors,index)"
      ],
      "execution_count": 1,
      "outputs": [
        {
          "output_type": "error",
          "ename": "NameError",
          "evalue": "ignored",
          "traceback": [
            "\u001b[0;31m---------------------------------------------------------------------------\u001b[0m",
            "\u001b[0;31mNameError\u001b[0m                                 Traceback (most recent call last)",
            "\u001b[0;32m<ipython-input-1-99e5fbb37e0b>\u001b[0m in \u001b[0;36m<module>\u001b[0;34m()\u001b[0m\n\u001b[1;32m      1\u001b[0m \u001b[0;34m\u001b[0m\u001b[0m\n\u001b[0;32m----> 2\u001b[0;31m \u001b[0;32mfor\u001b[0m \u001b[0mi\u001b[0m \u001b[0;32min\u001b[0m \u001b[0mrange\u001b[0m\u001b[0;34m(\u001b[0m\u001b[0;36m1\u001b[0m\u001b[0;34m,\u001b[0m\u001b[0mn\u001b[0m\u001b[0;34m+\u001b[0m\u001b[0;36m1\u001b[0m\u001b[0;34m)\u001b[0m\u001b[0;34m:\u001b[0m\u001b[0;34m\u001b[0m\u001b[0;34m\u001b[0m\u001b[0m\n\u001b[0m\u001b[1;32m      3\u001b[0m    \u001b[0mfactorial\u001b[0m \u001b[0;34m=\u001b[0m \u001b[0mfactorial\u001b[0m \u001b[0;34m*\u001b[0m \u001b[0mi\u001b[0m\u001b[0;34m\u001b[0m\u001b[0;34m\u001b[0m\u001b[0m\n\u001b[1;32m      4\u001b[0m \u001b[0;34m\u001b[0m\u001b[0m\n\u001b[1;32m      5\u001b[0m \u001b[0mprint\u001b[0m\u001b[0;34m(\u001b[0m\u001b[0;34mf'Factorial is : {factorial}'\u001b[0m\u001b[0;34m)\u001b[0m\u001b[0;34m\u001b[0m\u001b[0;34m\u001b[0m\u001b[0m\n",
            "\u001b[0;31mNameError\u001b[0m: name 'n' is not defined"
          ]
        }
      ]
    }
  ]
}