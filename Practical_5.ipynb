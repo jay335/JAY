{
  "nbformat": 4,
  "nbformat_minor": 0,
  "metadata": {
    "colab": {
      "name": "Practical 5.ipynb",
      "provenance": [],
      "authorship_tag": "ABX9TyMHyzgNj1SDtS8rKcT66e1M",
      "include_colab_link": true
    },
    "kernelspec": {
      "name": "python3",
      "display_name": "Python 3"
    }
  },
  "cells": [
    {
      "cell_type": "markdown",
      "metadata": {
        "id": "view-in-github",
        "colab_type": "text"
      },
      "source": [
        "<a href=\"https://colab.research.google.com/github/jay335/JAY/blob/master/Practical_5.ipynb\" target=\"_parent\"><img src=\"https://colab.research.google.com/assets/colab-badge.svg\" alt=\"Open In Colab\"/></a>"
      ]
    },
    {
      "cell_type": "code",
      "metadata": {
        "id": "ORVxtReJMch4",
        "colab_type": "code",
        "colab": {
          "base_uri": "https://localhost:8080/",
          "height": 122
        },
        "outputId": "bc46e4ce-a10b-4331-882d-8d08f546ba87"
      },
      "source": [
        " \n",
        "list1 = [11,12,13,14,15,16,17,18,19,20]\n",
        "print(\"List = \",list1)\n",
        "size = len(list1)\n",
        "def binary_search(x):\n",
        "    print(\"BINARY SEARCHING\")\n",
        "    low = 0\n",
        "    high = len(list1) - 1\n",
        "    mid = 0\n",
        "    while low <= high: \n",
        "        mid = (high + low) // 2\n",
        "        if list1[mid] < x: \n",
        "            low = mid + 1\n",
        "        elif list1[mid] > x: \n",
        "            high = mid - 1\n",
        "        else: \n",
        "            return mid \n",
        "    return \"None it not in the list\"\n",
        " \n",
        " \n",
        " \n",
        "def linear_search(n):\n",
        "    print(\"LINEAR SEARCHING\")\n",
        "    if n not in list1:\n",
        "        print(n,\"not in the list\")\n",
        "    else:\n",
        "        for i in range(size):\n",
        "            if list1[i]==n:\n",
        "                print(\"index of \", n,\" is \",i)\n",
        "                \n",
        "n = input(\"Enter (L) for Linear search and  (B) for Binary search :\")\n",
        "if n==\"L\" or n==\"l\":\n",
        "    y = int(input(\"Enter a no. from the given list1 \"))\n",
        "    linear_search(y)\n",
        "elif n==\"B\" or n==\"b\":\n",
        "    y = int(input(\"Enter a no. from the given list1 \"))\n",
        "    print(\"index of \",y,\" is \",binary_search(y))\n",
        "else:\n",
        "    print(\"Invalid input\")"
      ],
      "execution_count": 2,
      "outputs": [
        {
          "output_type": "stream",
          "text": [
            "List =  [11, 12, 13, 14, 15, 16, 17, 18, 19, 20]\n",
            "Enter (L) for Linear search and  (B) for Binary search :B\n",
            "Enter a no. from the given list1 16\n",
            "BINARY SEARCHING\n",
            "index of  16  is  5\n"
          ],
          "name": "stdout"
        }
      ]
    }
  ]
}