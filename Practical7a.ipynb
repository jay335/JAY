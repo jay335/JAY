{
  "nbformat": 4,
  "nbformat_minor": 0,
  "metadata": {
    "colab": {
      "name": "Practical7a.ipynb",
      "provenance": [],
      "authorship_tag": "ABX9TyNuwGvLzWejVDwmEl9VxmcY",
      "include_colab_link": true
    },
    "kernelspec": {
      "name": "python3",
      "display_name": "Python 3"
    }
  },
  "cells": [
    {
      "cell_type": "markdown",
      "metadata": {
        "id": "view-in-github",
        "colab_type": "text"
      },
      "source": [
        "<a href=\"https://colab.research.google.com/github/jay335/JAY/blob/master/Practical7a.ipynb\" target=\"_parent\"><img src=\"https://colab.research.google.com/assets/colab-badge.svg\" alt=\"Open In Colab\"/></a>"
      ]
    },
    {
      "cell_type": "code",
      "metadata": {
        "id": "VsclPqgb6sOP",
        "outputId": "f0cb1a5d-3c7e-46af-f69d-0c29b8e40e62",
        "colab": {
          "base_uri": "https://localhost:8080/"
        }
      },
      "source": [
        " \n",
        "class Hash:\n",
        "    def __init__(self, keys, lowerrange, higherrange):\n",
        "        self.value = self.hashfunction(keys,lowerrange, higherrange)\n",
        " \n",
        "    def get_key_value(self):\n",
        "        return self.value\n",
        " \n",
        "    def hashfunction(self,keys,lowerrange, higherrange):\n",
        "        if lowerrange == 0 and higherrange > 0:\n",
        "            return keys%(higherrange)\n",
        " \n",
        "if __name__ == '__main__':\n",
        "    list_of_keys = [42,46,2,26]\n",
        "    list_of_list_index = [None,None,None,None]\n",
        "    print(\"Before : \" + str(list_of_list_index))\n",
        "    for value in list_of_keys:\n",
        "        #print(Hash(value,0,len(list_of_keys)).get_key_value())\n",
        "        list_index = Hash(value,0,len(list_of_keys)).get_key_value()\n",
        "        if list_of_list_index[list_index]:\n",
        "            print(\"Collission detected\")\n",
        "        else:\n",
        "            list_of_list_index[list_index] = value\n",
        " \n",
        "    print(\"After: \" + str(list_of_list_index))"
      ],
      "execution_count": 1,
      "outputs": [
        {
          "output_type": "stream",
          "text": [
            "Before : [None, None, None, None]\n",
            "Collission detected\n",
            "Collission detected\n",
            "Collission detected\n",
            "After: [None, None, 42, None]\n"
          ],
          "name": "stdout"
        }
      ]
    }
  ]
}