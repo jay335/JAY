{
  "nbformat": 4,
  "nbformat_minor": 0,
  "metadata": {
    "colab": {
      "name": "Practical_1b.ipynb",
      "provenance": [],
      "authorship_tag": "ABX9TyMd+anpTfVq2UjxIGymWlgV",
      "include_colab_link": true
    },
    "kernelspec": {
      "name": "python3",
      "display_name": "Python 3"
    }
  },
  "cells": [
    {
      "cell_type": "markdown",
      "metadata": {
        "id": "view-in-github",
        "colab_type": "text"
      },
      "source": [
        "<a href=\"https://colab.research.google.com/github/jay335/JAY/blob/master/Practical_1b.ipynb\" target=\"_parent\"><img src=\"https://colab.research.google.com/assets/colab-badge.svg\" alt=\"Open In Colab\"/></a>"
      ]
    },
    {
      "cell_type": "code",
      "metadata": {
        "id": "b3_BtDiP3o3H",
        "outputId": "1e0f0065-dc1b-4bda-f756-3fe5f7cae5c3",
        "colab": {
          "base_uri": "https://localhost:8080/"
        }
      },
      "source": [
        " \n",
        "#Python program to perform matrix operations\n",
        "#Addition\n",
        "mat1 = [[29,18],[26,40]]\n",
        "mat2 = [[14,12],[13,25]]\n",
        "mat3 = [[0,0],[0,0]]\n",
        "for i in range(0,2):\n",
        "    for j in range(0,2):\n",
        "       mat3[i][j] = mat1[i][j] + mat2[i][j]\n",
        "       print(\"Addition of two matrices\")\n",
        "for i in range(0,2):\n",
        "  for j in range(0,2):\n",
        "       print(mat3[i][j], end = \"\")\n",
        "       print()\n",
        " \n",
        "#Multiplication\n",
        "mat1 = [[9,18],[6,49]]\n",
        "mat2 = [[60,51],[14,32]]\n",
        "mat3 = [[0,0],[0,0]]\n",
        "for i in range(0,2):\n",
        "    for j in range(0,2):\n",
        "       mat3[i][j] = mat1[i][j] * mat2[i][j]\n",
        "       print(\"Multiplication of two matrices\")\n",
        "for i in range(0,2):\n",
        "  for j in range(0,2):\n",
        "       print(mat3[i][j], end = \"\")\n",
        "       print()\n",
        " \n",
        "#Tranpose\n",
        "X = [[40,19],\n",
        "    [81,37]]\n",
        "result = [[0,0],\n",
        "         [0,0]]\n",
        "for i in range(len(X)):\n",
        "   for j in range(len(X[0])):\n",
        "       result[j][i] = X[i][j]\n",
        "       print(\"Transpose Of Two Matrices\")\n",
        "for r in result:\n",
        "   print(r)"
      ],
      "execution_count": 1,
      "outputs": [
        {
          "output_type": "stream",
          "text": [
            "Addition of two matrices\n",
            "Addition of two matrices\n",
            "Addition of two matrices\n",
            "Addition of two matrices\n",
            "43\n",
            "30\n",
            "39\n",
            "65\n",
            "Multiplication of two matrices\n",
            "Multiplication of two matrices\n",
            "Multiplication of two matrices\n",
            "Multiplication of two matrices\n",
            "540\n",
            "918\n",
            "84\n",
            "1568\n",
            "Transpose Of Two Matrices\n",
            "Transpose Of Two Matrices\n",
            "Transpose Of Two Matrices\n",
            "Transpose Of Two Matrices\n",
            "[40, 81]\n",
            "[19, 37]\n"
          ],
          "name": "stdout"
        }
      ]
    }
  ]
}